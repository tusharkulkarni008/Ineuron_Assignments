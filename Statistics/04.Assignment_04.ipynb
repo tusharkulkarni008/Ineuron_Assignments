{
 "cells": [
  {
   "attachments": {},
   "cell_type": "markdown",
   "id": "c1bee013",
   "metadata": {},
   "source": [
    "# Assignment 04 Solutions"
   ]
  },
  {
   "attachments": {},
   "cell_type": "markdown",
   "id": "0c11a49a",
   "metadata": {},
   "source": [
    "#### 1.\tIs it possible that an event is independent of itself? If so, when?"
   ]
  },
  {
   "attachments": {},
   "cell_type": "markdown",
   "id": "bf803a1b",
   "metadata": {},
   "source": [
    "No. the occurence of a event itself is it's definition. defenition of dependence is defining an event in terms of other events. f occurence of an event is its own definition then the event is not independent of it-self by virtue of its occurence "
   ]
  },
  {
   "attachments": {},
   "cell_type": "markdown",
   "id": "9a1b3fe5",
   "metadata": {},
   "source": [
    "#### 2.\tIs it always true that if A and B are independent events, then Ac and Bc are independent events? Show that it is, or give a counterexample ?"
   ]
  },
  {
   "cell_type": "code",
   "execution_count": null,
   "id": "50c02965",
   "metadata": {},
   "outputs": [],
   "source": [
    "Yes the proof Ac U Bc reduces to P(Ac) P(Bc)"
   ]
  }
 ],
 "metadata": {
  "kernelspec": {
   "display_name": "Python 3",
   "language": "python",
   "name": "python3"
  },
  "language_info": {
   "codemirror_mode": {
    "name": "ipython",
    "version": 3
   },
   "file_extension": ".py",
   "mimetype": "text/x-python",
   "name": "python",
   "nbconvert_exporter": "python",
   "pygments_lexer": "ipython3",
   "version": "3.8.8"
  }
 },
 "nbformat": 4,
 "nbformat_minor": 5
}
