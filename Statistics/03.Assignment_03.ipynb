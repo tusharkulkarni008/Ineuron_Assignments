{
 "cells": [
  {
   "attachments": {},
   "cell_type": "markdown",
   "id": "c1bee013",
   "metadata": {},
   "source": [
    "# Assignment 03 Solutions"
   ]
  },
  {
   "attachments": {},
   "cell_type": "markdown",
   "id": "74e45f42",
   "metadata": {},
   "source": [
    "#### 1.For a group of 7 people, find the probability that all 4 seasons (winter, spring, summer, fall) occur at least once each among their birthdays, assuming that all seasons are equally likely ?"
   ]
  },
  {
   "attachments": {},
   "cell_type": "markdown",
   "id": "f8d0075a",
   "metadata": {},
   "source": [
    "1 - 4(3^/4^7)+6(2^7/4^7)-4(1^7/4^7)"
   ]
  },
  {
   "attachments": {},
   "cell_type": "markdown",
   "id": "80c97e70",
   "metadata": {},
   "source": []
  },
  {
   "attachments": {},
   "cell_type": "markdown",
   "id": "459d7c76",
   "metadata": {},
   "source": [
    "#### 2. Alice attends a small college in which each class meets only once a week. She is deciding between 30 non-overlapping classes. There are 6 classes to choose from for each day of the week, Monday through Friday. Trusting in the benevolence of randomness, Alice decides to register for 7 randomly selected classes out of the 30, with all choices equally likely. What is the probability that she will have classes every day, Monday through Friday?"
   ]
  },
  {
   "cell_type": "code",
   "execution_count": null,
   "id": "d282bde9",
   "metadata": {},
   "outputs": [],
   "source": []
  }
 ],
 "metadata": {
  "kernelspec": {
   "display_name": "Python 3",
   "language": "python",
   "name": "python3"
  },
  "language_info": {
   "codemirror_mode": {
    "name": "ipython",
    "version": 3
   },
   "file_extension": ".py",
   "mimetype": "text/x-python",
   "name": "python",
   "nbconvert_exporter": "python",
   "pygments_lexer": "ipython3",
   "version": "3.8.8"
  }
 },
 "nbformat": 4,
 "nbformat_minor": 5
}
